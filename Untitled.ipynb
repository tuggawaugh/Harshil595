{
 "cells": [
  {
   "cell_type": "code",
   "execution_count": null,
   "metadata": {},
   "outputs": [],
   "source": [
    "# import libraries\n",
    "\n",
    "import pandas as pd\n",
    "import matplotlib.pyplot as plt\n",
    "from pandas_datareader import data as web  \n",
    "import plotly\n",
    "import plotly.plotly as plty\n",
    "import plotly.graph_objs as go\n",
    "import io\n",
    "import base64 "
   ]
  },
  {
   "cell_type": "code",
   "execution_count": null,
   "metadata": {},
   "outputs": [],
   "source": [
    "# create the flask app\n",
    "\n",
    "from flask import Flask\n",
    "app = Flask (__name__)"
   ]
  },
  {
   "cell_type": "code",
   "execution_count": null,
   "metadata": {},
   "outputs": [],
   "source": [
    "# define a function that returns a dataframe of data from yahoo based on selected stock symbol\n",
    "\n",
    "def get_adj_close(ticker, start, end):\n",
    "    \n",
    "        start = start\n",
    "        end = end\n",
    "        info = web.DataReader(ticker, data_source='yahoo', start=start, end=end)['Adj Close']\n",
    "        return pd.DataFrame(info)"
   ]
  },
  {
   "cell_type": "code",
   "execution_count": null,
   "metadata": {},
   "outputs": [],
   "source": [
    "# create the historical trend plot based on ticker input\n",
    "\n",
    "def stockplot(ticker):\n",
    "    img = io.BytesIO()\n",
    "    tick1 = get_adj_close(ticker, '1/2/2017', '26/10/2018')\n",
    "    tick1[['Adj Close']].plot(figsize=(12,6)) \n",
    "    plt.title('Price History')\n",
    "    plt.ylabel('Price (USD)')\n",
    "    plt.savefig(img, format='png')\n",
    "    img.seek(0)\n",
    "    plot_url = base64.b64encode(img.getvalue()).decode()\n",
    "    return '<img src=\"data:image/png;base64,{}\">'.format(plot_url)"
   ]
  },
  {
   "cell_type": "code",
   "execution_count": null,
   "metadata": {},
   "outputs": [],
   "source": [
    "# obtain ticker data for the set time period from yahoo\n",
    "\n",
    "@app.route(\"/stocks/<string:name>/\")\n",
    "def getStock(name):\n",
    "       return stockplot(name)"
   ]
  },
  {
   "cell_type": "code",
   "execution_count": null,
   "metadata": {},
   "outputs": [],
   "source": [
    "# run the flask app on port 9000 on the localhost\n",
    "\n",
    "if __name__ == \"__main__\":\n",
    "    app.run(host = '0.0.0.0', port=9000)"
   ]
  }
 ],
 "metadata": {
  "kernelspec": {
   "display_name": "Python 3",
   "language": "python",
   "name": "python3"
  },
  "language_info": {
   "codemirror_mode": {
    "name": "ipython",
    "version": 3
   },
   "file_extension": ".py",
   "mimetype": "text/x-python",
   "name": "python",
   "nbconvert_exporter": "python",
   "pygments_lexer": "ipython3",
   "version": "3.6.7"
  }
 },
 "nbformat": 4,
 "nbformat_minor": 2
}
