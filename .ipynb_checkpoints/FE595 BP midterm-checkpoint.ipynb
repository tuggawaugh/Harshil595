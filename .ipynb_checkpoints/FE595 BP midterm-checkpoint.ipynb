{
 "cells": [
  {
   "cell_type": "code",
   "execution_count": 1,
   "metadata": {},
   "outputs": [],
   "source": [
    "import pandas as pd\n",
    "import matplotlib.pyplot as plt\n",
    "from pandas_datareader import data as web  \n",
    "import plotly\n",
    "import plotly.plotly as plty\n",
    "import plotly.graph_objs as go\n",
    "import io\n",
    "import base64 "
   ]
  },
  {
   "cell_type": "code",
   "execution_count": 2,
   "metadata": {},
   "outputs": [],
   "source": [
    "# creates the flask app\n",
    "from flask import Flask\n",
    "app = Flask (__name__)"
   ]
  },
  {
   "cell_type": "code",
   "execution_count": 3,
   "metadata": {},
   "outputs": [],
   "source": [
    "def get_adj_close(ticker, start, end):\n",
    "    \n",
    "        start = start\n",
    "        end = end\n",
    "        info = web.DataReader(ticker, data_source='yahoo', start=start, end=end)['Adj Close']\n",
    "        return pd.DataFrame(info)"
   ]
  },
  {
   "cell_type": "code",
   "execution_count": 4,
   "metadata": {},
   "outputs": [],
   "source": [
    "#ticker = 'msft'"
   ]
  },
  {
   "cell_type": "code",
   "execution_count": 5,
   "metadata": {},
   "outputs": [],
   "source": [
    "#tick1 = get_adj_close(ticker, '1/2/2017', '26/10/2018')"
   ]
  },
  {
   "cell_type": "code",
   "execution_count": 6,
   "metadata": {},
   "outputs": [],
   "source": [
    "def stockplot(ticker):\n",
    "    img = io.BytesIO()\n",
    "    tick1 = get_adj_close(ticker, '1/2/2017', '26/10/2018')\n",
    "    tick1[['Adj Close']].plot(figsize=(12,6)) \n",
    "    plt.title('Price History')\n",
    "    plt.ylabel('Price (USD)')\n",
    "    plt.savefig(img, format='png')\n",
    "    img.seek(0)\n",
    "    plot_url = base64.b64encode(img.getvalue()).decode()\n",
    "    return '<img src=\"data:image/png;base64,{}\">'.format(plot_url)\n",
    "    \n",
    "# reference https://ntguardian.wordpress.com/2016/09/19/introduction-stock-market-data-python-1/"
   ]
  },
  {
   "cell_type": "code",
   "execution_count": 7,
   "metadata": {},
   "outputs": [],
   "source": [
    "# obtain ticker date for the set time period from quandl\n",
    "@app.route(\"/stocks/<string:name>/\")\n",
    "def getStock(name):\n",
    "       return stockplot(name)\n",
    "    "
   ]
  },
  {
   "cell_type": "code",
   "execution_count": 8,
   "metadata": {},
   "outputs": [],
   "source": [
    "# #from Gordon's example to return output\n",
    "\n",
    "# @app.route('/query-example')\n",
    "# def query_example():\n",
    "#     language = request.args.get('language') #if key doesn't exist, returns None\n",
    "# #    language = language.lower()\n",
    "#     framework = request.args.get('framework')\n",
    "#     ticker = request.args['ticker'] #if key doesn't exist, returns a 400, bad request error \n",
    "#     return '''<h1>The language value is: {}</h1>\n",
    "#               <h1>The framework value is: {}</h1>\n",
    "#               <h1>The ticker value is: {}'''.format(language, framework,ticker)"
   ]
  },
  {
   "cell_type": "code",
   "execution_count": 9,
   "metadata": {},
   "outputs": [],
   "source": [
    "# # run the flask app on port 9000 on the localhost\n",
    "# if __name__ == \"__main__\":\n",
    "#     app.run('localhost', 9000, app)"
   ]
  },
  {
   "cell_type": "code",
   "execution_count": null,
   "metadata": {},
   "outputs": [
    {
     "name": "stdout",
     "output_type": "stream",
     "text": [
      " * Serving Flask app \"__main__\" (lazy loading)\n",
      " * Environment: production\n",
      "   WARNING: Do not use the development server in a production environment.\n",
      "   Use a production WSGI server instead.\n",
      " * Debug mode: off\n"
     ]
    },
    {
     "name": "stderr",
     "output_type": "stream",
     "text": [
      " * Running on http://0.0.0.0:9000/ (Press CTRL+C to quit)\n",
      "127.0.0.1 - - [27/Oct/2018 18:26:26] \"GET /stocks/msft/ HTTP/1.1\" 200 -\n",
      "127.0.0.1 - - [27/Oct/2018 18:26:34] \"GET /stocks/acn/ HTTP/1.1\" 200 -\n"
     ]
    }
   ],
   "source": [
    "if __name__ == \"__main__\":\n",
    "    app.run(host = '0.0.0.0', port=9000)"
   ]
  },
  {
   "cell_type": "code",
   "execution_count": null,
   "metadata": {},
   "outputs": [],
   "source": [
    "# References\n",
    "# https://scotch.io/bar-talk/processing-incoming-request-data-in-flask"
   ]
  }
 ],
 "metadata": {
  "kernelspec": {
   "display_name": "Python 3",
   "language": "python",
   "name": "python3"
  },
  "language_info": {
   "codemirror_mode": {
    "name": "ipython",
    "version": 3
   },
   "file_extension": ".py",
   "mimetype": "text/x-python",
   "name": "python",
   "nbconvert_exporter": "python",
   "pygments_lexer": "ipython3",
   "version": "3.6.7"
  }
 },
 "nbformat": 4,
 "nbformat_minor": 2
}
