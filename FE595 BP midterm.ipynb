{
 "cells": [
  {
   "cell_type": "code",
   "execution_count": null,
   "metadata": {},
   "outputs": [],
   "source": [
    "# import libraries\n",
    "import pandas as pd\n",
    "import matplotlib.pyplot as plt\n",
    "from pandas_datareader import data as web  \n",
    "import plotly\n",
    "import plotly.plotly as plty\n",
    "import plotly.graph_objs as go\n",
    "import io\n",
    "import base64 "
   ]
  },
  {
   "cell_type": "code",
   "execution_count": null,
   "metadata": {},
   "outputs": [],
   "source": [
    "# create the flask app\n",
    "from flask import Flask\n",
    "app = Flask (__name__)"
   ]
  },
  {
   "cell_type": "code",
   "execution_count": null,
   "metadata": {},
   "outputs": [],
   "source": [
    "# define a function that returns a dataframe of data from yahoo based on selected stock symbol\n",
    "def get_adj_close(ticker, start, end):\n",
    "        start = start\n",
    "        end = end\n",
    "        info = web.DataReader(ticker, data_source='yahoo', start=start, end=end)['Adj Close']\n",
    "        return pd.DataFrame(info)"
   ]
  },
  {
   "cell_type": "code",
   "execution_count": null,
   "metadata": {},
   "outputs": [],
   "source": [
    "# create the historical trend and moving average plot based on ticker input\n",
    "\n",
    "def stockplot(ticker):\n",
    "    img = io.BytesIO()\n",
    "    tick1['Adj Close'] = get_adj_close(ticker, '01/01/2016', '31/12/2017')\n",
    "    # tick1[['Adj Close']].plot(figsize=(10,10)) \n",
    "    df['ma50'] = pd.rolling_mean(df['Adj Close'], 50)\n",
    "    plots = df[['Adj Close', 'ma50']].plot(subplots=False, figsize=(10, 10))\n",
    "    plt.title('Historical Price Trend')\n",
    "    plt.ylabel('Price (USD)')\n",
    "    plt.savefig(img, format='png')\n",
    "    img.seek(0)\n",
    "    plots = base64.b64encode(img.getvalue()).decode()\n",
    "    return plt.show()\n"
   ]
  },
  {
   "cell_type": "code",
   "execution_count": null,
   "metadata": {},
   "outputs": [],
   "source": [
    "#def stockplot(ticker):\n",
    "#    img = io.BytesIO()\n",
    "#    tick1 = get_adj_close(ticker, '01/01/2016', '31/12/2017')\n",
    "#    tick1[['Adj Close']].plot(figsize=(10,10)) \n",
    "#    plt.title('Historical Price Trend')\n",
    "#    plt.ylabel('Price (USD)')\n",
    "#    plt.savefig(img, format='png')\n",
    "#    img.seek(0)\n",
    "#    plots = base64.b64encode(img.getvalue()).decode()\n",
    "#    return '<img src=\"data:image/png;base64,{}\">'.format(plots)\n",
    "    \n",
    "        \n",
    "# References \n",
    "# https://ntguardian.wordpress.com/2018/07/17/stock-data-analysis-python-v2/\n",
    "# https://scotch.io/bar-talk/processing-incoming-request-data-in-flask"
   ]
  },
  {
   "cell_type": "code",
   "execution_count": null,
   "metadata": {},
   "outputs": [],
   "source": [
    "# obtain ticker data for the set time period from yahoo\n",
    "@app.route(\"/stocks/<string:name>/\")\n",
    "def getStock(name):\n",
    "#    language = request.args.get('language') #if key doesn't exist, returns None\n",
    "#    language = language.lower()\n",
    "#    framework = request.args.get('framework')\n",
    "#    ticker = request.args['ticker'] #if key doesn't exist, returns a 400, bad request error \n",
    "    return stockplot(name)\n",
    "#    '''<h1>The language value is: {}</h1>\n",
    "#    <h1>The framework value is: {}</h1>\n",
    "#    <h1>The ticker value is: {}'''.format(language, framework,ticker)\n",
    "  "
   ]
  },
  {
   "cell_type": "code",
   "execution_count": null,
   "metadata": {},
   "outputs": [],
   "source": [
    "# run the flask app on port 9000 on the localhost\n",
    "\n",
    "if __name__ == \"__main__\":\n",
    "    app.run(host = '0.0.0.0', port=9000)"
   ]
  },
  {
   "cell_type": "code",
   "execution_count": null,
   "metadata": {},
   "outputs": [],
   "source": []
  }
 ],
 "metadata": {
  "kernelspec": {
   "display_name": "Python 3",
   "language": "python",
   "name": "python3"
  },
  "language_info": {
   "codemirror_mode": {
    "name": "ipython",
    "version": 3
   },
   "file_extension": ".py",
   "mimetype": "text/x-python",
   "name": "python",
   "nbconvert_exporter": "python",
   "pygments_lexer": "ipython3",
   "version": "3.6.7"
  }
 },
 "nbformat": 4,
 "nbformat_minor": 2
}
